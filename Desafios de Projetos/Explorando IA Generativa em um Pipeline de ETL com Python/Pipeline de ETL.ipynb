# **E**xtract

import requests
import json

# URL da API com todos os usuários
url = 'https://sdw-2023-prd.up.railway.app/users'

# Requisição GET para a API
response = requests.get(url)

# Verifica se a requisição foi bem-sucedida (código de status 200)
if response.status_code == 200:
    # Analisa os dados JSON
    parse_json = response.json()

    # Usa a função filter para selecionar os usuários que atendem ao critério: Limite Cartão entre 100 a 500
    filtered_users = filter(lambda user: user.get('card', {}).get('limit') is not None and 100 <= user['card']['limit'] <= 500, parse_json)

    # Conferte o resultado da filtragem em uma lista
    filtered_users_list = list(filtered_users)

    # Verifica se há usuários que atendem ao critério
    if len(filtered_users_list) > 0:
        # Imprimi os detalhes da verificação do critério
        for user in filtered_users_list:
            print(f"ID: {user['id']}, Nome: {user['name']}, Limite no Cartão: {user['card'].get('limit', 0)}")

        # Contagem de usuários filtrados
        print(f"Total de usuários filtrados: {len(filtered_users_list)}")
    else:
        print("Não há usuários que atendem ao critério.")
else:
    print(f"A requisição falhou com o código de status: {response.status_code}")


## **T**ransform

import csv
import random

# Abre o arquivo 'News.csv' para leitura, usando a codificação 'latin-1' para evitar erros de codificação

with open('News.csv', 'r', encoding='latin-1') as csv_file:

  # Cria um leitor CSV para ler o arquivo
  csv_reader = csv.reader(csv_file)

  # Converte as linhas do arquivo CSV em uma lista de mensagens
  messages = list(csv_reader)


# Inicializa uma variável para contar as mensagens
mensagem_contagem = 0


# Itera sobre a lista de usuários filtrados
for user in filtered_users_list:

  # Escolhe aleatoriamente uma mensagem do arquivo CSV
  random_message = random.choice(messages)

  # Obtem o nome do usuário atual
  user_name = user['name']

  # Formata a mensagem personalizada com o nome do usuário
  formatted_message = f"Olá {user_name}! {random_message[0]}"


  user['news'].append({

    "icon":"https://digitalinnovationone.github.io/santander-dev-week-2023-api/icons/cards.svg",

    "description":formatted_message

  })

  # Imprimi a mensagem personalizada para o usuário atual

  print(formatted_message)

  # Incrementa a contagem de mensagens

  mensagem_contagem += 1


# Imprimi a contagem total de mensagens geradas

print(f"Total de mensagens geradas: {mensagem_contagem}")


## **L**oad

# Loop através da lista de usuários filtrados

for user in filtered_users_list:

  # Obtém o ID do usuário e suas notícias

  user_id = user['id']

  # Faz uma solicitação PUT para atualizar os registros do usuário na API original

  response = requests.put(f'https://sdw-2023-prd.up.railway.app/users/{user_id}', json=user)

  # Verifica se a solicitação PUT foi bem-sucedida (status code 200)

  if response.status_code == 200:

    print(f"Mensagens atualizadas para o usuário ID {user_id}.")

  else:

    # Se a solicitação não foi bem-sucedida, imprime uma mensagem de falha

    print(f"Falha ao atualizar mensagens para o usuário ID {user_id}.")


# Imprime o código de status e corpo da resposta HTTP.

print(response.status_code) # Status da resposta
print(response.text) # Corpo da resposta (mensagem de erro, se houver)
